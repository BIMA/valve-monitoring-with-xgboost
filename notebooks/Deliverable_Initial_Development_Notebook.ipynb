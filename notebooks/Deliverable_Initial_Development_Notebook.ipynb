{
  "nbformat": 4,
  "nbformat_minor": 0,
  "metadata": {
    "colab": {
      "name": "Deliverable - Initial Development Notebook.ipynb",
      "provenance": [],
      "collapsed_sections": [
        "fciTQPUIV7Ml"
      ]
    },
    "kernelspec": {
      "name": "python3",
      "display_name": "Python 3"
    },
    "language_info": {
      "name": "python"
    }
  },
  "cells": [
    {
      "cell_type": "markdown",
      "source": [
        "# Initialization"
      ],
      "metadata": {
        "id": "nZ0tOetrjT6q"
      }
    },
    {
      "cell_type": "code",
      "execution_count": null,
      "metadata": {
        "id": "DVnAO5w_P1K8"
      },
      "outputs": [],
      "source": [
        "import time\n",
        "import numpy as np\n",
        "import matplotlib.pyplot as plt\n",
        "from typing import List, Dict\n",
        "\n",
        "import xgboost as xgb\n",
        "import seaborn as sns\n",
        "import pandas as pd\n",
        "import plotly.express as px\n",
        "from sklearn.metrics import mean_squared_error, mean_absolute_error\n",
        "from sklearn.model_selection import train_test_split\n",
        "from sklearn.preprocessing import MinMaxScaler\n",
        "\n",
        "\n",
        "sns.set_theme()\n",
        "%matplotlib inline\n",
        "\n",
        "# local development: remove this library\n",
        "from google.colab import drive"
      ]
    },
    {
      "cell_type": "code",
      "source": [
        "# local development: remove this line\n",
        "drive.mount(\"/content/drive\")"
      ],
      "metadata": {
        "id": "NiI7144ySUs2"
      },
      "execution_count": null,
      "outputs": []
    },
    {
      "cell_type": "code",
      "source": [
        "# Define variables\n",
        "\n",
        "# Excel filename for training purpose\n",
        "# local development: path local\n",
        "train_excel_file = \"/content/drive/MyDrive/Freelance/PT Badak/dataset/after_turn_around.xlsx\"\n",
        "# Excel filename for testing purpose (Before Turn Around)\n",
        "raw_excel_file = \"/content/drive/MyDrive/Freelance/PT Badak/dataset/before_turn_around.xlsx\"\n",
        "# Randomness number\n",
        "seed = 115\n",
        "# Test size when training stage\n",
        "test_size = 0.2 # 80% training 20% test\n",
        "# Select the column that you want to use\n",
        "# And rename it to make it easier for computer to read\n",
        "# Make sure that the `selected_columns` and `normalized_column_names` should be\n",
        "# the same size\n",
        "selected_columns = [\"TIMESTAMP\", \"MV\", \"PV\", \"AMINE>1C-2\", \"F/G > 1C-1\", \"1C-2 BOTTOM\", \"1C-4 > FG\"]\n",
        "normalized_column_names = [\"timestamp\", \"mv\", \"pv\", \"amine_1c2\", \"fg_1c1\", \"bottom_1c2\", \"fg_1c4\"]\n",
        "# Row where the first row of the table is started\n",
        "header = 4\n",
        "\n",
        "# Define functions\n",
        "def get_correlation_plot(\n",
        "        df: pd.DataFrame,\n",
        "        nrows: int,\n",
        "        ncols: int,\n",
        "        title: str,\n",
        "        predictors: List[str],\n",
        "        image_path: str = None):\n",
        "    \"\"\"\n",
        "    Show scatter plot for each predictor against the target\n",
        "\n",
        "    Parameters:\n",
        "    df: Dataframe of your data\n",
        "    nrows: how many plot in a row\n",
        "    ncols: how many image in a column\n",
        "    title: chart title for your plot\n",
        "    predictors: list of predictor variable names\n",
        "    image_path: location to store the plot\n",
        "    \"\"\"\n",
        "    fig, axes = plt.subplots(nrows=nrows, ncols=ncols, figsize=(16, 10))\n",
        "    fig.suptitle(title)\n",
        "    i = 0\n",
        "    max_len = len(predictors)\n",
        "    for r in range(nrows):\n",
        "        for c in range(ncols):\n",
        "            if i >= max_len:\n",
        "                break\n",
        "            axes[r, c].scatter(x=df[predictors[i]], y=df[\"mv\"]) # change mv if target is not `mv`\n",
        "            axes[r, c].set_title(f\"{predictors[i]} vs mv\") # change mv if target is not `mv`\n",
        "            i += 1\n",
        "    if image_path:\n",
        "        plt.savefig(image_path, dpi=300)\n",
        "\n",
        "def get_kdeplot_mv(\n",
        "        predictor_name: str,\n",
        "        map_of_df: Dict[str, pd.DataFrame],\n",
        "        title: str,\n",
        "        image_path: str = None,\n",
        "    ):\n",
        "    \"\"\"\n",
        "    Show KDE plot for each predictor against the target\n",
        "\n",
        "    Parameters:\n",
        "    predictor_name: your predictor variable name\n",
        "    map_of_df: mapping your dataframe with the predictor name\n",
        "    title: chart title for your plot\n",
        "    image_path: location to store the image\n",
        "    \"\"\"\n",
        "    plt.figure(figsize=(16, 8))\n",
        "    for k, v in map_of_df.items():\n",
        "        sns.kdeplot(v[predictor_name], label=k)\n",
        "    plt.title(title, fontdict={\"size\": 25})\n",
        "    plt.legend()\n",
        "    plt.tight_layout()\n",
        "    if image_path:\n",
        "        plt.savefig(image_path, dpi=300)"
      ],
      "metadata": {
        "id": "eH7CaZsEQ6um"
      },
      "execution_count": null,
      "outputs": []
    },
    {
      "cell_type": "code",
      "source": [
        "# Read the data\n",
        "df = pd.read_excel(train_excel_file, header=header)\n",
        "df = df[selected_columns]\n",
        "df.columns = normalized_column_names\n",
        "\n",
        "# Show first 5 records\n",
        "df.head()"
      ],
      "metadata": {
        "id": "X5H7b6vZRDFX"
      },
      "execution_count": null,
      "outputs": []
    },
    {
      "cell_type": "code",
      "source": [
        "# Show descriptive statistics\n",
        "df.describe()"
      ],
      "metadata": {
        "id": "ohpLtBVpS-xb"
      },
      "execution_count": null,
      "outputs": []
    },
    {
      "cell_type": "markdown",
      "source": [
        "# Exploratory Data Analysis (EDA)"
      ],
      "metadata": {
        "id": "fciTQPUIV7Ml"
      }
    },
    {
      "cell_type": "code",
      "source": [
        "px.line(data_frame=df, x=\"timestamp\", y=\"mv\")"
      ],
      "metadata": {
        "id": "ni3myYeKV8Nw"
      },
      "execution_count": null,
      "outputs": []
    },
    {
      "cell_type": "code",
      "source": [
        "# filter by date when the mv is dropping\n",
        "mv_drop = df.loc[df[\"timestamp\"] <= \"2022-01-09\"]\n",
        "# filter by date when the mv is normal\n",
        "mv_increase = df.loc[df[\"timestamp\"] >= \"2022-02-01\"]\n",
        "# filter by date when the mv is increasing\n",
        "mv_normal = df.loc[(df[\"timestamp\"] > \"2022-01-09\") & (df[\"timestamp\"] < \"2022-02-01\")]\n",
        "\n",
        "# mv df mapping\n",
        "map_mv_df = {\n",
        "    \"mv_drop\": mv_drop,\n",
        "    \"mv_increase\": mv_increase,\n",
        "    \"mv_normal\": mv_normal,\n",
        "}"
      ],
      "metadata": {
        "id": "HTQ4EU45V8tx"
      },
      "execution_count": null,
      "outputs": []
    },
    {
      "cell_type": "code",
      "source": [
        "for k, v in map_mv_df.items():\n",
        "    get_correlation_plot(\n",
        "        df=v,\n",
        "        nrows=3,\n",
        "        ncols=3,\n",
        "        title=f\"mv vs predictor when {k}\",\n",
        "        predictors=normalized_column_names[1:],\n",
        "        image_path=f\"mv_predictor_{k}.png\",\n",
        "    )"
      ],
      "metadata": {
        "id": "Fc9E8aduXlMA"
      },
      "execution_count": null,
      "outputs": []
    },
    {
      "cell_type": "code",
      "source": [
        "for c in normalized_column_names[2:]:\n",
        "    get_kdeplot_mv(\n",
        "        predictor_name=c,\n",
        "        map_of_df=map_mv_df,\n",
        "        title=f\"kdeplot for {c}\",\n",
        "        image_path=f\"kdeplot_for_{c}.png\",\n",
        "    )"
      ],
      "metadata": {
        "id": "k2kEiTT7aa_O"
      },
      "execution_count": null,
      "outputs": []
    },
    {
      "cell_type": "markdown",
      "source": [
        "# Modelling"
      ],
      "metadata": {
        "id": "k3YjHDTcV9K9"
      }
    },
    {
      "cell_type": "code",
      "source": [
        "# Split the data into training and validation dataset\n",
        "X_train, X_test, y_train, y_test = train_test_split(\n",
        "    X=df.drop([\"mv\", \"timestamp\"], axis=1),\n",
        "    y=df[\"mv\"],\n",
        "    test_size=test_size,\n",
        "    random_state=seed,\n",
        "    shuffle=True,\n",
        ")"
      ],
      "metadata": {
        "id": "Nhm9FH7XTHvs"
      },
      "execution_count": null,
      "outputs": []
    },
    {
      "cell_type": "code",
      "source": [
        "# Training pipeline, here the steps:\n",
        "# 1. The training data will be normalized to be 0-1 range of values.\n",
        "# 2. After normalisation, the data will be inputed to the regressor\n",
        "scaler = MinMaxScaler()\n",
        "X_train = scaler.fit_transform(X_train)\n",
        "X_test = scaler.fit_transform(X_test)\n",
        "\n",
        "# Predict the test data\n",
        "xg_reg = xgb.XGBRegressor()\n",
        "xg_reg.fit(X_train, y_train)\n",
        "# Prediction\n",
        "y_pred = xg_reg.predict(X_test)\n",
        "\n",
        "# Calculate RMSE\n",
        "rmse = np.sqrt(mean_squared_error(y_test, y_pred))\n",
        "print(\"RMSE: %f\" % (rmse))"
      ],
      "metadata": {
        "id": "g7y0E8gJUdff"
      },
      "execution_count": null,
      "outputs": []
    },
    {
      "cell_type": "code",
      "source": [
        "X_train"
      ],
      "metadata": {
        "id": "5-lopjfXvzlA"
      },
      "execution_count": null,
      "outputs": []
    },
    {
      "cell_type": "markdown",
      "source": [
        "# Result"
      ],
      "metadata": {
        "id": "lp4C6MVPV_ST"
      }
    },
    {
      "cell_type": "code",
      "source": [
        "raw = pd.ExcelFile(raw_excel_file)\n",
        "raw.sheet_names"
      ],
      "metadata": {
        "id": "SXJ3-TyGWAP-"
      },
      "execution_count": null,
      "outputs": []
    },
    {
      "cell_type": "code",
      "source": [
        "df_raw = pd.concat([pd.read_excel(raw, sheet_name=s, header=header) for s in raw.sheet_names])\n",
        "# df_raw = pd.read_excel(file_path, header=header)\n",
        "df_raw = df_raw[selected_columns]\n",
        "df_raw.columns = normalized_column_names\n",
        "df_raw.info()"
      ],
      "metadata": {
        "id": "-wIVSbmdsYYm"
      },
      "execution_count": null,
      "outputs": []
    },
    {
      "cell_type": "code",
      "source": [
        "# Get the raw data\n",
        "X_before = scaler.fit_transform(df_raw.drop([\"timestamp\", \"mv\"], axis=1))\n",
        "y_before = df_raw[\"mv\"]\n",
        "\n",
        "# Predict the raw data\n",
        "y_pred_before = xg_reg.predict(X_before)"
      ],
      "metadata": {
        "id": "uMYiL7ipsn1_"
      },
      "execution_count": null,
      "outputs": []
    },
    {
      "cell_type": "code",
      "source": [
        "final = df_raw[[\"timestamp\", \"mv\"]]\n",
        "final[\"mv_predicted\"] = y_pred_before\n",
        "final.reset_index(drop=True, inplace=True)"
      ],
      "metadata": {
        "id": "d4uvTsMQtTbr"
      },
      "execution_count": null,
      "outputs": []
    },
    {
      "cell_type": "code",
      "source": [
        "june_july_data = final[\n",
        "    (final[\"timestamp\"] >= \"2021-06-10\") & \\\n",
        "    (final[\"timestamp\"] <= \"2021-07-10\")] \\\n",
        "    .reset_index(drop=True) \\\n",
        "    .melt(\"timestamp\", var_name=\"cols\", value_name=\"vals\")\n",
        "june_july_data = june_july_data.drop_duplicates()"
      ],
      "metadata": {
        "id": "2lWQ-q20td-A"
      },
      "execution_count": null,
      "outputs": []
    },
    {
      "cell_type": "code",
      "source": [
        "px.line(x=\"timestamp\", y=\"vals\", color=\"cols\", data_frame=june_july_data)"
      ],
      "metadata": {
        "id": "pjxMlSbKuGpP"
      },
      "execution_count": null,
      "outputs": []
    }
  ]
}